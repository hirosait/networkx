{
 "cells": [
  {
   "cell_type": "code",
   "execution_count": 416,
   "metadata": {},
   "outputs": [
    {
     "name": "stdout",
     "output_type": "stream",
     "text": [
      "1/2 Found pickle file (533935.pickle). loading..\n",
      "2/2 Found pickle file (533945.pickle). loading..\n"
     ]
    }
   ],
   "source": [
    "import matplotlib.pyplot as plt\n",
    "import networkx as nx\n",
    "import os\n",
    "\n",
    "import folium\n",
    "from MRD.mrd_package.mrd.Data import Data\n",
    "\n",
    "# 中心座標\n",
    "center = 35.667183, 139.738408\n",
    "# 距離\n",
    "distance = 0.5 # km\n",
    "# データディレクトリ\n",
    "data_dir = os.path.normpath(r\"C:\\Users\\hiroki\\PycharmProjects\\mrd\\MRD\\data\")\n",
    "\n",
    "d = Data()\n",
    "d.set_area(center, distance)\n",
    "d.set_path(data_dir)\n",
    "d.load()\n",
    "g = nx.DiGraph()"
   ]
  },
  {
   "cell_type": "code",
   "execution_count": 417,
   "metadata": {},
   "outputs": [],
   "source": [
    "g.clear()\n",
    "\n",
    "# ノードを追加する\n",
    "nodes = d.road.all_node\n",
    "\n",
    "for k, v in nodes.items():\n",
    "    g.add_node(k, pos=(v.lat, v.lon))\n",
    "\n",
    "# エッジを追加する 距離はweight, 細かい緯度経度はlink属性に\n",
    "links = d.road.all_way\n",
    "edges = []\n",
    "\n",
    "for k, v in links.items():\n",
    "    if v.link_kisei in (4, 6): # 一方通行（正方向）\n",
    "        edges.append([k[0], k[1], {'weight':v.link_length, 'link':v.link} ])\n",
    "    elif v.link_kisei in (5, 7): # 一方通行（逆方向）\n",
    "        edges.append([k[1], k[0], {'weight':v.link_length, 'link':v.link[::-1]} ])\n",
    "    else:\n",
    "        edges.append([k[0], k[1], {'weight':v.link_length, 'link':v.link} ])\n",
    "        edges.append([k[1], k[0], {'weight':v.link_length, 'link':v.link[::-1]} ])\n",
    "    g.add_edges_from(edges)"
   ]
  },
  {
   "cell_type": "code",
   "execution_count": 418,
   "metadata": {},
   "outputs": [],
   "source": [
    "# 最短経路\n",
    "r = nx.shortest_path(g, source=53393599162, target=53393578379   )"
   ]
  },
  {
   "cell_type": "code",
   "execution_count": 419,
   "metadata": {},
   "outputs": [
    {
     "data": {
      "text/plain": [
       "[53393599162, 53393503208, 53393502334, 53393514817, 53393578386, 53393578379]"
      ]
     },
     "execution_count": 419,
     "metadata": {},
     "output_type": "execute_result"
    }
   ],
   "source": [
    "r # 経路ノード"
   ]
  },
  {
   "cell_type": "code",
   "execution_count": 420,
   "metadata": {},
   "outputs": [
    {
     "data": {
      "text/plain": [
       "[(35.66718981616313, 139.73841888111238),\n",
       " (35.66697318108486, 139.73865636971516),\n",
       " (35.66697318108486, 139.73865636971516),\n",
       " (35.66733148445288, 139.73909381820457),\n",
       " (35.66733148445288, 139.73909381820457),\n",
       " (35.667481470349365, 139.73921880156874),\n",
       " (35.66778144348389, 139.73951876405974),\n",
       " (35.66778144348389, 139.73951876405974),\n",
       " (35.667914754256245, 139.73925628093247),\n",
       " (35.66799807319546, 139.73908129240482),\n",
       " (35.66799807319546, 139.73908129240482),\n",
       " (35.66777309435089, 139.7388938173589)]"
      ]
     },
     "execution_count": 420,
     "metadata": {},
     "output_type": "execute_result"
    }
   ],
   "source": [
    "l = []  # 経路ノードから緯度経度を取得する\n",
    "for i in range(len(r)-1):\n",
    "    uv = (r[i], r[i+1])\n",
    "    l.extend(g.edges[uv]['link'])\n",
    "l"
   ]
  },
  {
   "cell_type": "code",
   "execution_count": 421,
   "metadata": {},
   "outputs": [
    {
     "data": {
      "text/plain": [
       "<folium.vector_layers.PolyLine at 0x18b3ef57e10>"
      ]
     },
     "execution_count": 421,
     "metadata": {},
     "output_type": "execute_result"
    }
   ],
   "source": [
    "# 地図\n",
    "map_ = folium.Map(location=[center[0], center[1]], zoom_start=18, control_scale=True, prefer_canvas=True)\n",
    "folium.PolyLine(locations=l, color=\"red\", weight=\"4.5\", opacity=0.6).add_to(map_)"
   ]
  },
  {
   "cell_type": "code",
   "execution_count": 422,
   "metadata": {},
   "outputs": [
    {
     "data": {
      "text/html": [
       "<div style=\"width:100%;\"><div style=\"position:relative;width:100%;height:0;padding-bottom:60%;\"><iframe src=\"data:text/html;charset=utf-8;base64,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\" style=\"position:absolute;width:100%;height:100%;left:0;top:0;border:none !important;\" allowfullscreen webkitallowfullscreen mozallowfullscreen></iframe></div></div>"
      ],
      "text/plain": [
       "<folium.folium.Map at 0x18b3ef57470>"
      ]
     },
     "execution_count": 422,
     "metadata": {},
     "output_type": "execute_result"
    }
   ],
   "source": [
    "map_"
   ]
  }
 ],
 "metadata": {
  "kernelspec": {
   "display_name": "Python 3",
   "language": "python",
   "name": "python3"
  },
  "language_info": {
   "codemirror_mode": {
    "name": "ipython",
    "version": 3
   },
   "file_extension": ".py",
   "mimetype": "text/x-python",
   "name": "python",
   "nbconvert_exporter": "python",
   "pygments_lexer": "ipython3",
   "version": "3.7.0"
  }
 },
 "nbformat": 4,
 "nbformat_minor": 2
}
